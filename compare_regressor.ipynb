{
 "cells": [
  {
   "cell_type": "markdown",
   "metadata": {},
   "source": [
    "# compare_regressor\n",
    "\n",
    "this notebook compares the regressor prediction results from **sklearn DecisionTreeRegressor** and our own python implementation **MyDecisionTreeRegressor**.\n"
   ]
  },
  {
   "cell_type": "code",
   "execution_count": 1,
   "metadata": {},
   "outputs": [],
   "source": [
    "import numpy as np\n",
    "import pandas as pd\n",
    "import matplotlib.pyplot as plt\n",
    "from matplotlib.ticker import MaxNLocator\n",
    "%matplotlib inline"
   ]
  },
  {
   "cell_type": "markdown",
   "metadata": {},
   "source": [
    "### create regression dataset and visualize using pandas"
   ]
  },
  {
   "cell_type": "code",
   "execution_count": 2,
   "metadata": {},
   "outputs": [
    {
     "data": {
      "text/html": [
       "<div>\n",
       "<style scoped>\n",
       "    .dataframe tbody tr th:only-of-type {\n",
       "        vertical-align: middle;\n",
       "    }\n",
       "\n",
       "    .dataframe tbody tr th {\n",
       "        vertical-align: top;\n",
       "    }\n",
       "\n",
       "    .dataframe thead th {\n",
       "        text-align: right;\n",
       "    }\n",
       "</style>\n",
       "<table border=\"1\" class=\"dataframe\">\n",
       "  <thead>\n",
       "    <tr style=\"text-align: right;\">\n",
       "      <th></th>\n",
       "      <th>feature 1</th>\n",
       "      <th>feature 2</th>\n",
       "      <th>feature 3</th>\n",
       "      <th>feature 4</th>\n",
       "      <th>feature 5</th>\n",
       "      <th>feature 6</th>\n",
       "      <th>Y</th>\n",
       "    </tr>\n",
       "  </thead>\n",
       "  <tbody>\n",
       "    <tr>\n",
       "      <th>0</th>\n",
       "      <td>-0.184176</td>\n",
       "      <td>0.617986</td>\n",
       "      <td>-0.933915</td>\n",
       "      <td>-0.115985</td>\n",
       "      <td>-0.175459</td>\n",
       "      <td>-0.533020</td>\n",
       "      <td>-21.262101</td>\n",
       "    </tr>\n",
       "    <tr>\n",
       "      <th>1</th>\n",
       "      <td>-0.661344</td>\n",
       "      <td>1.388779</td>\n",
       "      <td>0.654580</td>\n",
       "      <td>3.030857</td>\n",
       "      <td>0.824585</td>\n",
       "      <td>-0.051188</td>\n",
       "      <td>215.339300</td>\n",
       "    </tr>\n",
       "    <tr>\n",
       "      <th>2</th>\n",
       "      <td>-0.067410</td>\n",
       "      <td>-1.113436</td>\n",
       "      <td>1.746435</td>\n",
       "      <td>1.161440</td>\n",
       "      <td>-0.027529</td>\n",
       "      <td>-0.775070</td>\n",
       "      <td>16.364261</td>\n",
       "    </tr>\n",
       "    <tr>\n",
       "      <th>3</th>\n",
       "      <td>0.617203</td>\n",
       "      <td>0.120159</td>\n",
       "      <td>-1.142518</td>\n",
       "      <td>0.300170</td>\n",
       "      <td>-0.352250</td>\n",
       "      <td>-0.349343</td>\n",
       "      <td>-32.855250</td>\n",
       "    </tr>\n",
       "    <tr>\n",
       "      <th>4</th>\n",
       "      <td>-0.102887</td>\n",
       "      <td>0.840862</td>\n",
       "      <td>0.466643</td>\n",
       "      <td>1.146900</td>\n",
       "      <td>-0.049703</td>\n",
       "      <td>1.033687</td>\n",
       "      <td>132.709265</td>\n",
       "    </tr>\n",
       "  </tbody>\n",
       "</table>\n",
       "</div>"
      ],
      "text/plain": [
       "   feature 1  feature 2  feature 3  feature 4  feature 5  feature 6  \\\n",
       "0  -0.184176   0.617986  -0.933915  -0.115985  -0.175459  -0.533020   \n",
       "1  -0.661344   1.388779   0.654580   3.030857   0.824585  -0.051188   \n",
       "2  -0.067410  -1.113436   1.746435   1.161440  -0.027529  -0.775070   \n",
       "3   0.617203   0.120159  -1.142518   0.300170  -0.352250  -0.349343   \n",
       "4  -0.102887   0.840862   0.466643   1.146900  -0.049703   1.033687   \n",
       "\n",
       "            Y  \n",
       "0  -21.262101  \n",
       "1  215.339300  \n",
       "2   16.364261  \n",
       "3  -32.855250  \n",
       "4  132.709265  "
      ]
     },
     "execution_count": 2,
     "metadata": {},
     "output_type": "execute_result"
    }
   ],
   "source": [
    "from sklearn.datasets.samples_generator import make_regression\n",
    "\n",
    "# create dataset with dim (n_samples, n_features), add some noise (std)\n",
    "X, Y = make_regression(n_samples=100, n_features=6, noise=0.1, random_state=1)\n",
    "pd.DataFrame(np.hstack((X, Y.reshape(-1,1))), columns=[\"feature \" + str(i+1) for i in range(len(X[0]))] + [\"Y\"]).head()"
   ]
  },
  {
   "cell_type": "markdown",
   "metadata": {},
   "source": [
    "### train-test split using 0.8-0.2 ratio"
   ]
  },
  {
   "cell_type": "code",
   "execution_count": 3,
   "metadata": {},
   "outputs": [
    {
     "name": "stdout",
     "output_type": "stream",
     "text": [
      "training data shape: (80, 6)\n",
      "testing data shape: (20, 6)\n"
     ]
    }
   ],
   "source": [
    "from sklearn.model_selection import train_test_split \n",
    "\n",
    "X_train, X_test, Y_train, Y_test = train_test_split(X, Y, test_size=0.2, random_state=1)\n",
    "print(\"training data shape: {}\".format(X_train.shape))\n",
    "print(\"testing data shape: {}\".format(X_test.shape))"
   ]
  },
  {
   "cell_type": "markdown",
   "metadata": {},
   "source": [
    "### train our regressor and predict on test data"
   ]
  },
  {
   "cell_type": "code",
   "execution_count": 4,
   "metadata": {},
   "outputs": [],
   "source": [
    "from MyRegressor import MyDecisionTreeRegressor\n",
    "\n",
    "# define a tree of depth 10\n",
    "my_reg = MyDecisionTreeRegressor(max_depth=10, min_samples_split=2)\n",
    "\n",
    "# train my regressor\n",
    "my_reg.fit(X_train, Y_train)\n",
    "\n",
    "# predict on test data \n",
    "my_pred = my_reg.predict(X_test)"
   ]
  },
  {
   "cell_type": "markdown",
   "metadata": {},
   "source": [
    "### train a sklearn regressor and predict as well"
   ]
  },
  {
   "cell_type": "code",
   "execution_count": 5,
   "metadata": {},
   "outputs": [],
   "source": [
    "from sklearn.tree import DecisionTreeRegressor\n",
    "\n",
    "# try to keep the available hyperparameters same\n",
    "sk_reg = DecisionTreeRegressor(max_depth=10, min_samples_split=2)\n",
    "\n",
    "# train sklearn regressor\n",
    "sk_reg.fit(X_train, Y_train)\n",
    "\n",
    "# predict on test data\n",
    "sk_pred = sk_reg.predict(X_test)"
   ]
  },
  {
   "cell_type": "markdown",
   "metadata": {},
   "source": [
    "### let's visualize the predictions"
   ]
  },
  {
   "cell_type": "code",
   "execution_count": 6,
   "metadata": {},
   "outputs": [
    {
     "data": {
      "image/png": "[encoded data removed]",
      "text/plain": [
       "<Figure size 432x288 with 1 Axes>"
      ]
     },
     "metadata": {
      "needs_background": "light"
     },
     "output_type": "display_data"
    }
   ],
   "source": [
    "ax = plt.figure().gca()\n",
    "ax.xaxis.set_major_locator(MaxNLocator(integer=True))\n",
    "plt.plot(range(len(Y_test)), Y_test, label=\"Y_test\")\n",
    "plt.plot(range(len(my_pred)), my_pred, label=\"my_pred\")\n",
    "plt.plot(range(len(sk_pred)), sk_pred, label='sk_pred')\n",
    "\n",
    "plt.title(\"Regressor results comparison\")\n",
    "plt.xlabel(\"Data points\")\n",
    "plt.ylabel(\"Prediction\")\n",
    "plt.legend()\n",
    "plt.show()"
   ]
  },
  {
   "cell_type": "markdown",
   "metadata": {},
   "source": [
    "`our implementation has very comparable results with sklearn :) ` "
   ]
  },
  {
   "cell_type": "code",
   "execution_count": null,
   "metadata": {},
   "outputs": [],
   "source": []
  }
 ],
 "metadata": {
  "kernelspec": {
   "display_name": "Python 3",
   "language": "python",
   "name": "python3"
  },
  "language_info": {
   "codemirror_mode": {
    "name": "ipython",
    "version": 3
   },
   "file_extension": ".py",
   "mimetype": "text/x-python",
   "name": "python",
   "nbconvert_exporter": "python",
   "pygments_lexer": "ipython3",
   "version": "3.6.9"
  }
 },
 "nbformat": 4,
 "nbformat_minor": 2
}
